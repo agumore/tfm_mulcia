{
 "cells": [
  {
   "cell_type": "code",
   "execution_count": 1,
   "metadata": {},
   "outputs": [],
   "source": [
    "import networkx as nx\n",
    "from torch_geometric.utils.convert import to_networkx\n",
    "from utils import *\n",
    "from uci.uci_data import *"
   ]
  },
  {
   "cell_type": "code",
   "execution_count": 2,
   "metadata": {},
   "outputs": [],
   "source": [
    "# Carga datos de dataset\n",
    "uci_path='uci/raw_data'\n",
    "df_np = np.loadtxt(uci_path+'/{}/data/data.txt'.format('housing'))\n",
    "df_y = pd.DataFrame(df_np[:, -1:])\n",
    "df_X = pd.DataFrame(df_np[:, :-1])"
   ]
  },
  {
   "cell_type": "code",
   "execution_count": 3,
   "metadata": {},
   "outputs": [
    {
     "data": {
      "text/html": [
       "<div>\n",
       "<style scoped>\n",
       "    .dataframe tbody tr th:only-of-type {\n",
       "        vertical-align: middle;\n",
       "    }\n",
       "\n",
       "    .dataframe tbody tr th {\n",
       "        vertical-align: top;\n",
       "    }\n",
       "\n",
       "    .dataframe thead th {\n",
       "        text-align: right;\n",
       "    }\n",
       "</style>\n",
       "<table border=\"1\" class=\"dataframe\">\n",
       "  <thead>\n",
       "    <tr style=\"text-align: right;\">\n",
       "      <th></th>\n",
       "      <th>0</th>\n",
       "      <th>1</th>\n",
       "      <th>2</th>\n",
       "      <th>3</th>\n",
       "      <th>4</th>\n",
       "      <th>5</th>\n",
       "      <th>6</th>\n",
       "      <th>7</th>\n",
       "      <th>8</th>\n",
       "      <th>9</th>\n",
       "      <th>10</th>\n",
       "      <th>11</th>\n",
       "      <th>12</th>\n",
       "    </tr>\n",
       "  </thead>\n",
       "  <tbody>\n",
       "    <tr>\n",
       "      <th>0</th>\n",
       "      <td>0.00632</td>\n",
       "      <td>18.0</td>\n",
       "      <td>2.31</td>\n",
       "      <td>0.0</td>\n",
       "      <td>0.538</td>\n",
       "      <td>6.575</td>\n",
       "      <td>65.2</td>\n",
       "      <td>4.0900</td>\n",
       "      <td>1.0</td>\n",
       "      <td>296.0</td>\n",
       "      <td>15.3</td>\n",
       "      <td>396.90</td>\n",
       "      <td>4.98</td>\n",
       "    </tr>\n",
       "    <tr>\n",
       "      <th>1</th>\n",
       "      <td>0.02731</td>\n",
       "      <td>0.0</td>\n",
       "      <td>7.07</td>\n",
       "      <td>0.0</td>\n",
       "      <td>0.469</td>\n",
       "      <td>6.421</td>\n",
       "      <td>78.9</td>\n",
       "      <td>4.9671</td>\n",
       "      <td>2.0</td>\n",
       "      <td>242.0</td>\n",
       "      <td>17.8</td>\n",
       "      <td>396.90</td>\n",
       "      <td>9.14</td>\n",
       "    </tr>\n",
       "    <tr>\n",
       "      <th>2</th>\n",
       "      <td>0.02729</td>\n",
       "      <td>0.0</td>\n",
       "      <td>7.07</td>\n",
       "      <td>0.0</td>\n",
       "      <td>0.469</td>\n",
       "      <td>7.185</td>\n",
       "      <td>61.1</td>\n",
       "      <td>4.9671</td>\n",
       "      <td>2.0</td>\n",
       "      <td>242.0</td>\n",
       "      <td>17.8</td>\n",
       "      <td>392.83</td>\n",
       "      <td>4.03</td>\n",
       "    </tr>\n",
       "    <tr>\n",
       "      <th>3</th>\n",
       "      <td>0.03237</td>\n",
       "      <td>0.0</td>\n",
       "      <td>2.18</td>\n",
       "      <td>0.0</td>\n",
       "      <td>0.458</td>\n",
       "      <td>6.998</td>\n",
       "      <td>45.8</td>\n",
       "      <td>6.0622</td>\n",
       "      <td>3.0</td>\n",
       "      <td>222.0</td>\n",
       "      <td>18.7</td>\n",
       "      <td>394.63</td>\n",
       "      <td>2.94</td>\n",
       "    </tr>\n",
       "    <tr>\n",
       "      <th>4</th>\n",
       "      <td>0.06905</td>\n",
       "      <td>0.0</td>\n",
       "      <td>2.18</td>\n",
       "      <td>0.0</td>\n",
       "      <td>0.458</td>\n",
       "      <td>7.147</td>\n",
       "      <td>54.2</td>\n",
       "      <td>6.0622</td>\n",
       "      <td>3.0</td>\n",
       "      <td>222.0</td>\n",
       "      <td>18.7</td>\n",
       "      <td>396.90</td>\n",
       "      <td>5.33</td>\n",
       "    </tr>\n",
       "  </tbody>\n",
       "</table>\n",
       "</div>"
      ],
      "text/plain": [
       "        0     1     2    3      4      5     6       7    8      9     10  \\\n",
       "0  0.00632  18.0  2.31  0.0  0.538  6.575  65.2  4.0900  1.0  296.0  15.3   \n",
       "1  0.02731   0.0  7.07  0.0  0.469  6.421  78.9  4.9671  2.0  242.0  17.8   \n",
       "2  0.02729   0.0  7.07  0.0  0.469  7.185  61.1  4.9671  2.0  242.0  17.8   \n",
       "3  0.03237   0.0  2.18  0.0  0.458  6.998  45.8  6.0622  3.0  222.0  18.7   \n",
       "4  0.06905   0.0  2.18  0.0  0.458  7.147  54.2  6.0622  3.0  222.0  18.7   \n",
       "\n",
       "       11    12  \n",
       "0  396.90  4.98  \n",
       "1  396.90  9.14  \n",
       "2  392.83  4.03  \n",
       "3  394.63  2.94  \n",
       "4  396.90  5.33  "
      ]
     },
     "execution_count": 3,
     "metadata": {},
     "output_type": "execute_result"
    }
   ],
   "source": [
    "#Inspeccionamos los valores\n",
    "df_X.head()"
   ]
  },
  {
   "cell_type": "code",
   "execution_count": 4,
   "metadata": {},
   "outputs": [
    {
     "data": {
      "text/html": [
       "<div>\n",
       "<style scoped>\n",
       "    .dataframe tbody tr th:only-of-type {\n",
       "        vertical-align: middle;\n",
       "    }\n",
       "\n",
       "    .dataframe tbody tr th {\n",
       "        vertical-align: top;\n",
       "    }\n",
       "\n",
       "    .dataframe thead th {\n",
       "        text-align: right;\n",
       "    }\n",
       "</style>\n",
       "<table border=\"1\" class=\"dataframe\">\n",
       "  <thead>\n",
       "    <tr style=\"text-align: right;\">\n",
       "      <th></th>\n",
       "      <th>0</th>\n",
       "    </tr>\n",
       "  </thead>\n",
       "  <tbody>\n",
       "    <tr>\n",
       "      <th>0</th>\n",
       "      <td>24.0</td>\n",
       "    </tr>\n",
       "    <tr>\n",
       "      <th>1</th>\n",
       "      <td>21.6</td>\n",
       "    </tr>\n",
       "    <tr>\n",
       "      <th>2</th>\n",
       "      <td>34.7</td>\n",
       "    </tr>\n",
       "    <tr>\n",
       "      <th>3</th>\n",
       "      <td>33.4</td>\n",
       "    </tr>\n",
       "    <tr>\n",
       "      <th>4</th>\n",
       "      <td>36.2</td>\n",
       "    </tr>\n",
       "  </tbody>\n",
       "</table>\n",
       "</div>"
      ],
      "text/plain": [
       "      0\n",
       "0  24.0\n",
       "1  21.6\n",
       "2  34.7\n",
       "3  33.4\n",
       "4  36.2"
      ]
     },
     "execution_count": 4,
     "metadata": {},
     "output_type": "execute_result"
    }
   ],
   "source": [
    "df_y.head()"
   ]
  },
  {
   "cell_type": "code",
   "execution_count": 5,
   "metadata": {},
   "outputs": [
    {
     "data": {
      "text/plain": [
       "(506, 13)"
      ]
     },
     "execution_count": 5,
     "metadata": {},
     "output_type": "execute_result"
    }
   ],
   "source": [
    "#Tenemos 506 observaciones y 13 atributos\n",
    "df_X.shape"
   ]
  },
  {
   "cell_type": "code",
   "execution_count": 6,
   "metadata": {},
   "outputs": [],
   "source": [
    "#Generamos el grafo. Definimos los parametros\n",
    "node_mode=0\n",
    "train_edge=0.7 #porcentaje de arcos que usamos para el entrenamiento\n",
    "split_sample=0.\n",
    "split_by='y'\n",
    "train_y=0.7\n",
    "seed=0\n",
    "normalize=False\n",
    "#Generamos grafo\n",
    "data = get_data(df_X, df_y, node_mode, train_edge, split_sample, \n",
    "                    split_by, train_y, seed,normalize)"
   ]
  },
  {
   "cell_type": "code",
   "execution_count": 7,
   "metadata": {},
   "outputs": [
    {
     "name": "stdout",
     "output_type": "stream",
     "text": [
      "Num. nodos: 519\n",
      "Num. arcos: 13156\n",
      "Num. atributos de nodo: 13\n",
      "Num. atributos de arco: 1\n"
     ]
    }
   ],
   "source": [
    "# data es de tipo Data importado de pytorch geometric.\n",
    "print(\"Num. nodos: {}\".format(data.num_nodes))\n",
    "print(\"Num. arcos: {}\".format(data.num_edges))\n",
    "print(\"Num. atributos de nodo: {}\".format(data.num_node_features))\n",
    "print(\"Num. atributos de arco: {}\".format(data.num_edge_features))"
   ]
  },
  {
   "cell_type": "code",
   "execution_count": null,
   "metadata": {},
   "outputs": [],
   "source": [
    "# Tenemos Nodos =506 observaciones + 13 atributos = 519\n",
    "# Tenemos Arcos =506 observaciones * 13 atributos *2 = 13156 (un arco en cada direccion)\n",
    "# Tenemos etiquetas de arcos = 506 observaciones * 13 atributos = 6578 \n",
    "# Tenemos un atributo de nodo por cada atributo del dataset original\n",
    "# Cada arco tiene el valor del atributo de una determinada observacion."
   ]
  },
  {
   "cell_type": "code",
   "execution_count": 8,
   "metadata": {
    "scrolled": true
   },
   "outputs": [
    {
     "name": "stdout",
     "output_type": "stream",
     "text": [
      "x ---> torch.Size([519, 13])\n",
      "edge_index ---> torch.Size([2, 13156])\n",
      "edge_attr ---> torch.Size([13156, 1])\n",
      "y ---> torch.Size([506])\n",
      "train_y_mask ---> torch.Size([506])\n",
      "test_y_mask ---> torch.Size([506])\n",
      "train_edge_index ---> torch.Size([2, 9318])\n",
      "train_edge_attr ---> torch.Size([9318, 1])\n",
      "train_edge_mask ---> torch.Size([6578])\n",
      "train_labels ---> torch.Size([4659])\n",
      "test_edge_index ---> torch.Size([2, 3838])\n",
      "test_edge_attr ---> torch.Size([3838, 1])\n",
      "test_edge_mask ---> torch.Size([6578])\n",
      "test_labels ---> torch.Size([1919])\n",
      "df_X ---> (506, 13)\n",
      "df_y ---> (506,)\n",
      "[None, None, None, None, None, None, None, None, None, None, None, None, None, None, None, None]\n"
     ]
    }
   ],
   "source": [
    "# Exploramos la forma que tiene el objeto data\n",
    "print([print(a,\"--->\",data[a].shape) for a in data.keys[0:16]])"
   ]
  },
  {
   "cell_type": "code",
   "execution_count": 9,
   "metadata": {},
   "outputs": [
    {
     "name": "stdout",
     "output_type": "stream",
     "text": [
      "[0 0 0 0 0 0 0 0 0 0 0 0 0]\n",
      "[506 507 508 509 510 511 512 513 514 515 516 517 518]\n"
     ]
    }
   ],
   "source": [
    "#Imprimimos los arcos de la primera observacion\n",
    "print(data['edge_index'].numpy()[0][0:13])\n",
    "print(data['edge_index'].numpy()[1][0:13])"
   ]
  },
  {
   "cell_type": "code",
   "execution_count": 10,
   "metadata": {},
   "outputs": [
    {
     "name": "stdout",
     "output_type": "stream",
     "text": [
      "tensor([[6.3200e-03],\n",
      "        [1.8000e+01],\n",
      "        [2.3100e+00],\n",
      "        [0.0000e+00],\n",
      "        [5.3800e-01],\n",
      "        [6.5750e+00],\n",
      "        [6.5200e+01],\n",
      "        [4.0900e+00],\n",
      "        [1.0000e+00],\n",
      "        [2.9600e+02],\n",
      "        [1.5300e+01],\n",
      "        [3.9690e+02],\n",
      "        [4.9800e+00]])\n"
     ]
    }
   ],
   "source": [
    "#Imprimimos los valores de los arcos de la primera observacion (vemos que coincide)\n",
    "print(data['edge_attr'][0:13])"
   ]
  },
  {
   "cell_type": "code",
   "execution_count": 11,
   "metadata": {},
   "outputs": [
    {
     "name": "stdout",
     "output_type": "stream",
     "text": [
      "tensor(24.)\n"
     ]
    }
   ],
   "source": [
    "# El valor de la primera observación\n",
    "print(data['y'][0])"
   ]
  },
  {
   "cell_type": "code",
   "execution_count": 12,
   "metadata": {},
   "outputs": [
    {
     "name": "stdout",
     "output_type": "stream",
     "text": [
      "torch.Size([519, 13])\n",
      "tensor([1., 1., 1., 1., 1., 1., 1., 1., 1., 1., 1., 1., 1.])\n",
      "tensor([1., 0., 0., 0., 0., 0., 0., 0., 0., 0., 0., 0., 0.])\n"
     ]
    }
   ],
   "source": [
    "# Vemos el valor de los atributos de los nodos\n",
    "print(data['x'].shape)\n",
    "print(data['x'][505]) # Imprimimos el valor del ultimo nodo de tipo observacion\n",
    "print(data['x'][506]) # Imprimimos el valor del primer nodo de tipo feature"
   ]
  },
  {
   "cell_type": "code",
   "execution_count": 13,
   "metadata": {},
   "outputs": [
    {
     "name": "stdout",
     "output_type": "stream",
     "text": [
      "Numero muestras q entrenamos:346\n",
      "tensor([0, 0, 0, 0, 0, 0, 0, 0, 0, 0, 0])\n",
      "tensor([506, 508, 509, 510, 511, 512, 514, 515, 516, 517, 518])\n",
      "tensor([0, 0])\n",
      "tensor([507, 513])\n",
      "tensor([[6.3200e-03],\n",
      "        [2.3100e+00],\n",
      "        [0.0000e+00],\n",
      "        [5.3800e-01],\n",
      "        [6.5750e+00],\n",
      "        [6.5200e+01],\n",
      "        [1.0000e+00],\n",
      "        [2.9600e+02],\n",
      "        [1.5300e+01],\n",
      "        [3.9690e+02],\n",
      "        [4.9800e+00],\n",
      "        [2.7310e-02],\n",
      "        [0.0000e+00]])\n",
      "tensor([[18.0000],\n",
      "        [ 4.0900]])\n",
      "tensor([ True, False,  True,  True,  True,  True,  True, False,  True,  True,\n",
      "         True,  True,  True])\n",
      "tensor([False,  True, False, False, False, False, False,  True, False, False,\n",
      "        False, False, False])\n"
     ]
    }
   ],
   "source": [
    "print(\"Numero muestras q entrenamos:{}\".format(data['train_y_mask'].sum())) # Entrenamos el 70% de las muestras aprox.\n",
    "#Revisamos la primera observacion\n",
    "print(data['train_edge_index'][0][0:11])\n",
    "print(data['train_edge_index'][1][0:11])\n",
    "print(data['test_edge_index'][0][0:2])\n",
    "print(data['test_edge_index'][1][0:2])\n",
    "print(data['train_edge_attr'][0:13])\n",
    "print(data['test_edge_attr'][0:2])\n",
    "print(data['train_edge_mask'][0:13])\n",
    "print(data['test_edge_mask'][0:13])"
   ]
  },
  {
   "cell_type": "code",
   "execution_count": 14,
   "metadata": {},
   "outputs": [
    {
     "data": {
      "image/png": "[encoded data removed]",
      "text/plain": [
       "<Figure size 360x360 with 1 Axes>"
      ]
     },
     "metadata": {},
     "output_type": "display_data"
    }
   ],
   "source": [
    "# Seleccionamos el grafo de las dos primeras observaciones y lo pintamos\n",
    "datagraph=to_networkx(data)\n",
    "\n",
    "H = datagraph.subgraph([0]+list(range(506,519))+[1])\n",
    "#Pintar esto mas mono\n",
    "import matplotlib.pyplot as plt\n",
    "plt.figure(1,figsize=(5,5))\n",
    "options = {\n",
    "    \"node_color\": \"#A0CBE2\",\n",
    "    \"edge_color\": range(52),\n",
    "    \"width\": 2,\n",
    "    \"edge_cmap\": plt.cm.Blues,\n",
    "    \"with_labels\": False,\n",
    "}\n",
    "pos = nx.spring_layout(H)\n",
    "nx.draw(H,pos,**options)\n",
    "plt.show()"
   ]
  },
  {
   "cell_type": "markdown",
   "metadata": {},
   "source": [
    "## Vemos como se selecciona el conjunto de entrenamiento para los experimentos"
   ]
  },
  {
   "cell_type": "code",
   "execution_count": 15,
   "metadata": {},
   "outputs": [],
   "source": [
    "known=0.7\n",
    "device='cpu'\n",
    "train_edge_attr=data.train_edge_attr.clone().detach().to(device)\n",
    "known_mask = get_known_mask(known, int(train_edge_attr.shape[0] / 2)).to(device)"
   ]
  },
  {
   "cell_type": "code",
   "execution_count": 16,
   "metadata": {},
   "outputs": [
    {
     "name": "stdout",
     "output_type": "stream",
     "text": [
      "torch.Size([9318, 1])\n",
      "torch.Size([4659])\n",
      "tensor(3248)\n"
     ]
    }
   ],
   "source": [
    "print(train_edge_attr.shape)\n",
    "print(known_mask.shape)\n",
    "print(known_mask.sum()) # Marcamos el "
   ]
  },
  {
   "cell_type": "code",
   "execution_count": 17,
   "metadata": {},
   "outputs": [
    {
     "data": {
      "text/plain": [
       "4722.9"
      ]
     },
     "execution_count": 17,
     "metadata": {},
     "output_type": "execute_result"
    }
   ],
   "source": [
    "(519*13)*0.7"
   ]
  },
  {
   "cell_type": "code",
   "execution_count": 18,
   "metadata": {},
   "outputs": [
    {
     "name": "stdout",
     "output_type": "stream",
     "text": [
      "['EGSAGE', 'EGSAGE', 'EGSAGE'] [True, True, True] [64]\n"
     ]
    }
   ],
   "source": [
    "from models.gnn_model import get_gnn\n",
    "from models.prediction_model import MLPNet\n",
    "from utils.utils import build_optimizer\n",
    "\n",
    "class paso_parametros:\n",
    "    def __init__(self, **kwargs):\n",
    "        self.__dict__.update(kwargs)\n",
    "parametros_modelo = {\n",
    "    \"model_types\":'EGSAGE_EGSAGE_EGSAGE',\n",
    "    \"norm_embs\":None,\n",
    "    \"post_hiddens\":None,\n",
    "    \"node_dim\": 64,\n",
    "    \"edge_dim\":64,\n",
    "    \"edge_mode\":1,\n",
    "    \"gnn_activation\":'relu',\n",
    "    \"concat_states\":False,\n",
    "    \"dropout\":0.,\n",
    "    \"aggr\":'mean'\n",
    "}    \n",
    "device='cpu'  \n",
    "#Generamos el modelo\n",
    "model = get_gnn(data, paso_parametros(**parametros_modelo)).to(device)"
   ]
  },
  {
   "cell_type": "code",
   "execution_count": 172,
   "metadata": {},
   "outputs": [
    {
     "data": {
      "text/plain": [
       "GNNStack(\n",
       "  (convs): ModuleList(\n",
       "    (0): EGraphSage(\n",
       "      (message_lin): Linear(in_features=14, out_features=64, bias=True)\n",
       "      (agg_lin): Linear(in_features=77, out_features=64, bias=True)\n",
       "      (message_activation): ReLU()\n",
       "      (update_activation): ReLU()\n",
       "    )\n",
       "    (1): EGraphSage(\n",
       "      (message_lin): Linear(in_features=128, out_features=64, bias=True)\n",
       "      (agg_lin): Linear(in_features=128, out_features=64, bias=True)\n",
       "      (message_activation): ReLU()\n",
       "      (update_activation): ReLU()\n",
       "    )\n",
       "    (2): EGraphSage(\n",
       "      (message_lin): Linear(in_features=128, out_features=64, bias=True)\n",
       "      (agg_lin): Linear(in_features=128, out_features=64, bias=True)\n",
       "      (message_activation): ReLU()\n",
       "      (update_activation): ReLU()\n",
       "    )\n",
       "  )\n",
       "  (node_post_mlp): Sequential(\n",
       "    (0): Sequential(\n",
       "      (0): Linear(in_features=64, out_features=64, bias=True)\n",
       "      (1): ReLU()\n",
       "      (2): Dropout(p=0.0, inplace=False)\n",
       "    )\n",
       "    (1): Linear(in_features=64, out_features=64, bias=True)\n",
       "  )\n",
       "  (edge_update_mlps): ModuleList(\n",
       "    (0): Sequential(\n",
       "      (0): Linear(in_features=129, out_features=64, bias=True)\n",
       "      (1): ReLU()\n",
       "    )\n",
       "    (1): Sequential(\n",
       "      (0): Linear(in_features=192, out_features=64, bias=True)\n",
       "      (1): ReLU()\n",
       "    )\n",
       "    (2): Sequential(\n",
       "      (0): Linear(in_features=192, out_features=64, bias=True)\n",
       "      (1): ReLU()\n",
       "    )\n",
       "  )\n",
       ")"
      ]
     },
     "execution_count": 172,
     "metadata": {},
     "output_type": "execute_result"
    }
   ],
   "source": [
    "model"
   ]
  },
  {
   "cell_type": "code",
   "execution_count": null,
   "metadata": {},
   "outputs": [],
   "source": []
  }
 ],
 "metadata": {
  "kernelspec": {
   "display_name": "Python 3",
   "language": "python",
   "name": "python3"
  },
  "language_info": {
   "codemirror_mode": {
    "name": "ipython",
    "version": 3
   },
   "file_extension": ".py",
   "mimetype": "text/x-python",
   "name": "python",
   "nbconvert_exporter": "python",
   "pygments_lexer": "ipython3",
   "version": "3.8.5"
  },
  "toc": {
   "base_numbering": 1,
   "nav_menu": {},
   "number_sections": true,
   "sideBar": true,
   "skip_h1_title": false,
   "title_cell": "Table of Contents",
   "title_sidebar": "Contents",
   "toc_cell": false,
   "toc_position": {},
   "toc_section_display": true,
   "toc_window_display": false
  }
 },
 "nbformat": 4,
 "nbformat_minor": 5
}
