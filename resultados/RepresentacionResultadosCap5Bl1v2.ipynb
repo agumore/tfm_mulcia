{
 "cells": [
  {
   "cell_type": "code",
   "execution_count": 5,
   "source": [
    "import numpy as np\n",
    "import pandas as pd\n",
    "import seaborn as sns\n",
    "import matplotlib.pyplot as plt\n",
    "from sklearn.metrics import accuracy_score, mean_absolute_error\n",
    "\n",
    "sns.set_theme(style=\"darkgrid\")\n",
    "\n",
    "#######\n",
    "# Funciones de utilidad\n",
    "def pintaDigito(df_Xc, df_Xr, nan_mat, indice):\n",
    "    imagenI= df_Xc.iloc[indice].values.reshape(28,28)\n",
    "    imagenF= df_Xr[indice].reshape(28,28)\n",
    "    mask=nan_mat[indice].reshape(28,28)\n",
    "\n",
    "    imagenAciertos= np.dstack([imagenI, imagenI, imagenI])\n",
    "    #Falsos\n",
    "    imagenAciertos[((imagenI!=imagenF) & mask),:]=[255,0,0]\n",
    "    #Verdaderos\n",
    "    imagenAciertos[((imagenI==imagenF) & mask),:]=[0,255,0]\n",
    "    fig, ax = plt.subplots(figsize=(5,4))\n",
    "    plt.axis('off')\n",
    "\n",
    "    plt.imshow(imagenAciertos)\n",
    "    plt.show()\n",
    "\n",
    "\n",
    "def pintaDigitoReco(df_Xr, indice,titulo):\n",
    "    imagenF= df_Xr[indice].reshape(28,28)\n",
    "    imagenReco= np.dstack([imagenF, imagenF, imagenF])\n",
    "    \n",
    "    fig, ax = plt.subplots(figsize=(5,4))\n",
    "    plt.axis('off')\n",
    "    plt.imshow(imagenReco,origin = 'upper', aspect = 1)\n",
    "    \n",
    "    \n",
    "    plt.title(titulo)\n",
    "    plt.savefig(titulo+\".png\")\n",
    "    plt.show()\n",
    "\n",
    "ruta=\"Cap5Bl1/\""
   ],
   "outputs": [],
   "metadata": {}
  },
  {
   "cell_type": "markdown",
   "source": [
    "# Cargamos digitos y errores del Baseline y representamos\n",
    "Tanto original como reconstruidos."
   ],
   "metadata": {}
  },
  {
   "cell_type": "code",
   "execution_count": 49,
   "source": [
    "#Cargamos resultados (!Ojo! Son antes de truncar y normalizados!!!!!!!!!!!!!!!!!!!!!!!!) \n",
    "ruta2=\"Exp1_Baseline/\"\n",
    "resultados = pd.read_pickle(ruta+ruta2+'resultados_MNIST_Baseline.pkl').xs('MNIST')\n",
    "resultados"
   ],
   "outputs": [
    {
     "output_type": "execute_result",
     "data": {
      "text/plain": [
       "               mae      rmse       mse  accuracy\n",
       "ceros     0.139330  0.343233  0.117809  0.787642\n",
       "mean      0.120808  0.230611  0.053182  0.462678\n",
       "knn       0.104341  0.210217  0.044191  0.521193\n",
       "svd       0.088629  0.173832  0.030218  0.462678\n",
       "mice      0.077838  0.158019  0.024970  0.462678\n",
       "spectral  0.076927  0.157667  0.024859  0.336922"
      ],
      "text/html": [
       "<div>\n",
       "<style scoped>\n",
       "    .dataframe tbody tr th:only-of-type {\n",
       "        vertical-align: middle;\n",
       "    }\n",
       "\n",
       "    .dataframe tbody tr th {\n",
       "        vertical-align: top;\n",
       "    }\n",
       "\n",
       "    .dataframe thead th {\n",
       "        text-align: right;\n",
       "    }\n",
       "</style>\n",
       "<table border=\"1\" class=\"dataframe\">\n",
       "  <thead>\n",
       "    <tr style=\"text-align: right;\">\n",
       "      <th></th>\n",
       "      <th>mae</th>\n",
       "      <th>rmse</th>\n",
       "      <th>mse</th>\n",
       "      <th>accuracy</th>\n",
       "    </tr>\n",
       "  </thead>\n",
       "  <tbody>\n",
       "    <tr>\n",
       "      <th>ceros</th>\n",
       "      <td>0.139330</td>\n",
       "      <td>0.343233</td>\n",
       "      <td>0.117809</td>\n",
       "      <td>0.787642</td>\n",
       "    </tr>\n",
       "    <tr>\n",
       "      <th>mean</th>\n",
       "      <td>0.120808</td>\n",
       "      <td>0.230611</td>\n",
       "      <td>0.053182</td>\n",
       "      <td>0.462678</td>\n",
       "    </tr>\n",
       "    <tr>\n",
       "      <th>knn</th>\n",
       "      <td>0.104341</td>\n",
       "      <td>0.210217</td>\n",
       "      <td>0.044191</td>\n",
       "      <td>0.521193</td>\n",
       "    </tr>\n",
       "    <tr>\n",
       "      <th>svd</th>\n",
       "      <td>0.088629</td>\n",
       "      <td>0.173832</td>\n",
       "      <td>0.030218</td>\n",
       "      <td>0.462678</td>\n",
       "    </tr>\n",
       "    <tr>\n",
       "      <th>mice</th>\n",
       "      <td>0.077838</td>\n",
       "      <td>0.158019</td>\n",
       "      <td>0.024970</td>\n",
       "      <td>0.462678</td>\n",
       "    </tr>\n",
       "    <tr>\n",
       "      <th>spectral</th>\n",
       "      <td>0.076927</td>\n",
       "      <td>0.157667</td>\n",
       "      <td>0.024859</td>\n",
       "      <td>0.336922</td>\n",
       "    </tr>\n",
       "  </tbody>\n",
       "</table>\n",
       "</div>"
      ]
     },
     "metadata": {},
     "execution_count": 49
    }
   ],
   "metadata": {}
  },
  {
   "cell_type": "code",
   "execution_count": 42,
   "source": [
    "#Seleccionamos el dígito 'indice' a representar\n",
    "indice=20\n",
    "\n",
    "#Cargamos original y máscara\n",
    "df_Xc=np.loadtxt(ruta+ruta2+'resultados_Orig_Baseline.txt',  delimiter=',').astype(int)\n",
    "nan_mat=np.loadtxt(ruta+ruta2+'MNIST_nanMat.txt',  delimiter=',').astype(bool)"
   ],
   "outputs": [],
   "metadata": {}
  },
  {
   "cell_type": "markdown",
   "source": [
    "## Baseline"
   ],
   "metadata": {}
  },
  {
   "cell_type": "code",
   "execution_count": 8,
   "source": [
    "\n",
    "#Representamos Reconstruidos\n",
    "\n",
    "#Baseline\n",
    "ruta2=\"Exp1_Baseline/\"\n",
    "met=['ceros','mean', 'knn', 'mice', 'svd', 'spectral']\n",
    "pintaDigitoReco(df_Xc,indice,\"Original\")\n",
    "for m in met:\n",
    "    print(m)\n",
    "    A=np.loadtxt(ruta+ruta2+'resultados_'+m+'_Baseline.txt',  delimiter=',').astype(int)\n",
    "    accuracy_real=accuracy_score(df_Xc[nan_mat].reshape(-1) , A[nan_mat].reshape(-1))\n",
    "    mae_real=mean_absolute_error(df_Xc[nan_mat].reshape(-1), A[nan_mat].reshape(-1))\n",
    "    pintaDigitoReco(A,indice,\"Método:\"+m\n",
    "                    +\"\\nAccuracy:{:.4f}\".format(accuracy_real)\n",
    "                    +\"\\nMAE:{:.4f}\".format(mae_real))\n",
    "\n"
   ],
   "outputs": [
    {
     "output_type": "display_data",
     "data": {
      "text/plain": [
       "<Figure size 360x288 with 1 Axes>"
      ],
      "image/png": "[encoded data removed]"
     },
     "metadata": {}
    },
    {
     "output_type": "stream",
     "name": "stdout",
     "text": [
      "ceros\n"
     ]
    },
    {
     "output_type": "display_data",
     "data": {
      "text/plain": [
       "<Figure size 360x288 with 1 Axes>"
      ],
      "image/png": "[encoded data removed]"
     },
     "metadata": {}
    },
    {
     "output_type": "stream",
     "name": "stdout",
     "text": [
      "mean\n"
     ]
    },
    {
     "output_type": "display_data",
     "data": {
      "text/plain": [
       "<Figure size 360x288 with 1 Axes>"
      ],
      "image/png": "[encoded data removed]"
     },
     "metadata": {}
    },
    {
     "output_type": "stream",
     "name": "stdout",
     "text": [
      "knn\n"
     ]
    },
    {
     "output_type": "display_data",
     "data": {
      "text/plain": [
       "<Figure size 360x288 with 1 Axes>"
      ],
      "image/png": "[encoded data removed]"
     },
     "metadata": {}
    },
    {
     "output_type": "stream",
     "name": "stdout",
     "text": [
      "mice\n"
     ]
    },
    {
     "output_type": "display_data",
     "data": {
      "text/plain": [
       "<Figure size 360x288 with 1 Axes>"
      ],
      "image/png": "[encoded data removed]"
     },
     "metadata": {}
    },
    {
     "output_type": "stream",
     "name": "stdout",
     "text": [
      "svd\n"
     ]
    },
    {
     "output_type": "display_data",
     "data": {
      "text/plain": [
       "<Figure size 360x288 with 1 Axes>"
      ],
      "image/png": "[encoded data removed]"
     },
     "metadata": {}
    },
    {
     "output_type": "stream",
     "name": "stdout",
     "text": [
      "spectral\n"
     ]
    },
    {
     "output_type": "display_data",
     "data": {
      "text/plain": [
       "<Figure size 360x288 with 1 Axes>"
      ],
      "image/png": "[encoded data removed]"
     },
     "metadata": {}
    }
   ],
   "metadata": {}
  },
  {
   "cell_type": "code",
   "execution_count": 9,
   "source": [
    "#Representamos errores\n",
    "for m in met:\n",
    "    print(m)\n",
    "    A=np.loadtxt(ruta+ruta2+'resultados_'+m+'_Baseline.txt',  delimiter=',').astype(int)\n",
    "    pintaDigito(pd.DataFrame(df_Xc), A, nan_mat, indice)\n",
    "    "
   ],
   "outputs": [
    {
     "output_type": "stream",
     "name": "stdout",
     "text": [
      "ceros\n"
     ]
    },
    {
     "output_type": "display_data",
     "data": {
      "text/plain": [
       "<Figure size 360x288 with 1 Axes>"
      ],
      "image/png": "[encoded data removed]"
     },
     "metadata": {}
    },
    {
     "output_type": "stream",
     "name": "stdout",
     "text": [
      "mean\n"
     ]
    },
    {
     "output_type": "display_data",
     "data": {
      "text/plain": [
       "<Figure size 360x288 with 1 Axes>"
      ],
      "image/png": "[encoded data removed]"
     },
     "metadata": {}
    },
    {
     "output_type": "stream",
     "name": "stdout",
     "text": [
      "knn\n"
     ]
    },
    {
     "output_type": "display_data",
     "data": {
      "text/plain": [
       "<Figure size 360x288 with 1 Axes>"
      ],
      "image/png": "[encoded data removed]"
     },
     "metadata": {}
    },
    {
     "output_type": "stream",
     "name": "stdout",
     "text": [
      "mice\n"
     ]
    },
    {
     "output_type": "display_data",
     "data": {
      "text/plain": [
       "<Figure size 360x288 with 1 Axes>"
      ],
      "image/png": "[encoded data removed]"
     },
     "metadata": {}
    },
    {
     "output_type": "stream",
     "name": "stdout",
     "text": [
      "svd\n"
     ]
    },
    {
     "output_type": "display_data",
     "data": {
      "text/plain": [
       "<Figure size 360x288 with 1 Axes>"
      ],
      "image/png": "[encoded data removed]"
     },
     "metadata": {}
    },
    {
     "output_type": "stream",
     "name": "stdout",
     "text": [
      "spectral\n"
     ]
    },
    {
     "output_type": "display_data",
     "data": {
      "text/plain": [
       "<Figure size 360x288 with 1 Axes>"
      ],
      "image/png": "[encoded data removed]"
     },
     "metadata": {}
    }
   ],
   "metadata": {}
  },
  {
   "cell_type": "code",
   "execution_count": 10,
   "source": [
    "#Representamos Heatmap\n",
    "for m in met:\n",
    "    A=np.loadtxt(ruta+ruta2+'resultados_'+m+'_Baseline.txt',  delimiter=',').astype(int)\n",
    "    fig, ax = plt.subplots(figsize=(5,4))\n",
    "    hs=sns.heatmap(abs(df_Xc[indice]-A[indice]).reshape(28,28),cmap=\"YlOrRd\",vmax=255,vmin=0,ax=ax)\n",
    "    #hs.set_title(m)\n",
    "    plt.axis('off')\n",
    "    plt.savefig(\"hs_\"+m+\".png\")\n",
    "    plt.show()"
   ],
   "outputs": [
    {
     "output_type": "display_data",
     "data": {
      "text/plain": [
       "<Figure size 360x288 with 2 Axes>"
      ],
      "image/png": "[encoded data removed]"
     },
     "metadata": {}
    },
    {
     "output_type": "display_data",
     "data": {
      "text/plain": [
       "<Figure size 360x288 with 2 Axes>"
      ],
      "image/png": "[encoded data removed]"
     },
     "metadata": {}
    },
    {
     "output_type": "display_data",
     "data": {
      "text/plain": [
       "<Figure size 360x288 with 2 Axes>"
      ],
      "image/png": "[encoded data removed]"
     },
     "metadata": {}
    },
    {
     "output_type": "display_data",
     "data": {
      "text/plain": [
       "<Figure size 360x288 with 2 Axes>"
      ],
      "image/png": "[encoded data removed]"
     },
     "metadata": {}
    },
    {
     "output_type": "display_data",
     "data": {
      "text/plain": [
       "<Figure size 360x288 with 2 Axes>"
      ],
      "image/png": "[encoded data removed]"
     },
     "metadata": {}
    },
    {
     "output_type": "display_data",
     "data": {
      "text/plain": [
       "<Figure size 360x288 with 2 Axes>"
      ],
      "image/png": "[encoded data removed]"
     },
     "metadata": {}
    }
   ],
   "metadata": {}
  },
  {
   "cell_type": "markdown",
   "source": [
    "# PARTE 1: Experimentos con GRAPE"
   ],
   "metadata": {}
  },
  {
   "cell_type": "markdown",
   "source": [
    "## GRAPE Clasificación"
   ],
   "metadata": {}
  },
  {
   "cell_type": "code",
   "execution_count": 11,
   "source": [
    "#Grape con 20k epochs (!Ojo! Son antes de truncar y normalizados!!!!!!!!!!!!!!!!!!!!!!!!) \n",
    "#Cargamos resultados\n",
    "ruta2=\"Exp1_GRAPE_C/\"\n",
    "resultados = pd.read_pickle(ruta+ruta2+'resultados_MNIST_grapeBasicoClas.pkl').xs('MNIST')\n",
    "resultados"
   ],
   "outputs": [
    {
     "output_type": "execute_result",
     "data": {
      "text/plain": [
       "        mae      rmse       mse  accuracy\n",
       "0  0.097213  0.266215  0.070871  0.795983"
      ],
      "text/html": [
       "<div>\n",
       "<style scoped>\n",
       "    .dataframe tbody tr th:only-of-type {\n",
       "        vertical-align: middle;\n",
       "    }\n",
       "\n",
       "    .dataframe tbody tr th {\n",
       "        vertical-align: top;\n",
       "    }\n",
       "\n",
       "    .dataframe thead th {\n",
       "        text-align: right;\n",
       "    }\n",
       "</style>\n",
       "<table border=\"1\" class=\"dataframe\">\n",
       "  <thead>\n",
       "    <tr style=\"text-align: right;\">\n",
       "      <th></th>\n",
       "      <th>mae</th>\n",
       "      <th>rmse</th>\n",
       "      <th>mse</th>\n",
       "      <th>accuracy</th>\n",
       "    </tr>\n",
       "  </thead>\n",
       "  <tbody>\n",
       "    <tr>\n",
       "      <th>0</th>\n",
       "      <td>0.097213</td>\n",
       "      <td>0.266215</td>\n",
       "      <td>0.070871</td>\n",
       "      <td>0.795983</td>\n",
       "    </tr>\n",
       "  </tbody>\n",
       "</table>\n",
       "</div>"
      ]
     },
     "metadata": {},
     "execution_count": 11
    }
   ],
   "metadata": {}
  },
  {
   "cell_type": "code",
   "execution_count": 12,
   "source": [
    "val=[]\n",
    "for l in [\"e3\",\"e2\",\"e1\",\"e0\"]:\n",
    "    df_Xg=np.loadtxt(ruta+ruta2+\"resultados_grapeBasicoClas_\"+l+ \".txt\",  delimiter=',').astype(int)\n",
    "    accuracy_real=accuracy_score(df_Xc[nan_mat].reshape(-1) , df_Xg[nan_mat].reshape(-1))\n",
    "    mae_real=mean_absolute_error(df_Xc[nan_mat].reshape(-1), df_Xg[nan_mat].reshape(-1))\n",
    "    val.append([accuracy_real,mae_real])\n",
    "\n",
    "pintaDigitoReco(df_Xg,indice,\"grape clasif.\\n\")#\"Método: \"+m\n",
    "                    #+\"\\nAccuracy:{:.4f}\".format(accuracy_real)\n",
    "                    #+\"\\nMAE:{:.4f}\".format(mae_real))\n",
    "fig, ax = plt.subplots(figsize=(5,4))\n",
    "hs=sns.heatmap(abs(df_Xc[indice]-df_Xg[indice]).reshape(28,28),cmap=\"YlOrRd\",vmax=255,vmin=0,ax=ax)\n",
    "#hs.set_title(m)\n",
    "plt.axis('off')\n",
    "#plt.savefig(\"hs_\"+\"gra_clas\"+\".png\")\n",
    "plt.show()\n",
    "pintaDigito(pd.DataFrame(df_Xc), df_Xg, nan_mat, indice)"
   ],
   "outputs": [
    {
     "output_type": "display_data",
     "data": {
      "text/plain": [
       "<Figure size 360x288 with 1 Axes>"
      ],
      "image/png": "[encoded data removed]"
     },
     "metadata": {}
    },
    {
     "output_type": "display_data",
     "data": {
      "text/plain": [
       "<Figure size 360x288 with 2 Axes>"
      ],
      "image/png": "[encoded data removed]"
     },
     "metadata": {}
    },
    {
     "output_type": "display_data",
     "data": {
      "text/plain": [
       "<Figure size 360x288 with 1 Axes>"
      ],
      "image/png": "[encoded data removed]"
     },
     "metadata": {}
    }
   ],
   "metadata": {}
  },
  {
   "cell_type": "code",
   "execution_count": 13,
   "source": [
    "#Media y desviación de los experimentos. Son x experimentos\n",
    "for i,l in zip([0,1],[\"Accuracy\",\"MAE\"]):\n",
    "    print(l,\"-->Media:\",np.array(val)[:,i].mean(),\"Desviación:\",np.array(val)[:,i].std())\n",
    "print(\"\\nValores\\n========\" )\n",
    "print(pd.DataFrame(val,columns =[\"Media\",\"MAE\"]))"
   ],
   "outputs": [
    {
     "output_type": "stream",
     "name": "stdout",
     "text": [
      "Accuracy -->Media: 0.7978551366073708 Desviación: 0.005731440646529359\n",
      "MAE -->Media: 25.059547621074138 Desviación: 0.41986440799438807\n",
      "\n",
      "Valores\n",
      "========\n",
      "      Media        MAE\n",
      "0  0.807218  24.711124\n",
      "1  0.796578  25.768448\n",
      "2  0.791642  24.969402\n",
      "3  0.795983  24.789216\n"
     ]
    }
   ],
   "metadata": {}
  },
  {
   "cell_type": "markdown",
   "source": [
    "## GRAPE Clasificación con Pesos"
   ],
   "metadata": {}
  },
  {
   "cell_type": "code",
   "execution_count": 43,
   "source": [
    "#Grape con 20k epochs (!Ojo! Son antes de truncar y normalizados!!!!!!!!!!!!!!!!!!!!!!!!) \n",
    "#Cargamos resultados\n",
    "ruta2=\"Exp1_GRAPE_CP/\"\n",
    "resultados = pd.read_pickle(ruta+ruta2+'resultados_MNIST_grapeBasicoClasPesos.pkl').xs('MNIST')\n",
    "resultados"
   ],
   "outputs": [
    {
     "output_type": "execute_result",
     "data": {
      "text/plain": [
       "        mae      rmse       mse  accuracy\n",
       "0  0.216845  0.346133  0.119808  0.446719"
      ],
      "text/html": [
       "<div>\n",
       "<style scoped>\n",
       "    .dataframe tbody tr th:only-of-type {\n",
       "        vertical-align: middle;\n",
       "    }\n",
       "\n",
       "    .dataframe tbody tr th {\n",
       "        vertical-align: top;\n",
       "    }\n",
       "\n",
       "    .dataframe thead th {\n",
       "        text-align: right;\n",
       "    }\n",
       "</style>\n",
       "<table border=\"1\" class=\"dataframe\">\n",
       "  <thead>\n",
       "    <tr style=\"text-align: right;\">\n",
       "      <th></th>\n",
       "      <th>mae</th>\n",
       "      <th>rmse</th>\n",
       "      <th>mse</th>\n",
       "      <th>accuracy</th>\n",
       "    </tr>\n",
       "  </thead>\n",
       "  <tbody>\n",
       "    <tr>\n",
       "      <th>0</th>\n",
       "      <td>0.216845</td>\n",
       "      <td>0.346133</td>\n",
       "      <td>0.119808</td>\n",
       "      <td>0.446719</td>\n",
       "    </tr>\n",
       "  </tbody>\n",
       "</table>\n",
       "</div>"
      ]
     },
     "metadata": {},
     "execution_count": 43
    }
   ],
   "metadata": {}
  },
  {
   "cell_type": "code",
   "execution_count": 44,
   "source": [
    "val=[]\n",
    "for l in [\"e3\",\"e2\",\"e1\",\"e0\"]:\n",
    "    df_Xg=np.loadtxt(ruta+ruta2+\"resultados_grapeBasicoClasP_\"+l+ \".txt\",  delimiter=',').astype(int)\n",
    "    accuracy_real=accuracy_score(df_Xc[nan_mat].reshape(-1) , df_Xg[nan_mat].reshape(-1))\n",
    "    mae_real=mean_absolute_error(df_Xc[nan_mat].reshape(-1), df_Xg[nan_mat].reshape(-1))\n",
    "    val.append([accuracy_real,mae_real])\n",
    "\n",
    "pintaDigitoReco(df_Xg,indice,\"grape clasif. pesos\\n\")#\"Método: \"+m\n",
    "                    #+\"\\nAccuracy:{:.4f}\".format(accuracy_real)\n",
    "                    #+\"\\nMAE:{:.4f}\".format(mae_real))\n",
    "fig, ax = plt.subplots(figsize=(5,4))\n",
    "hs=sns.heatmap(abs(df_Xc[indice]-df_Xg[indice]).reshape(28,28),cmap=\"YlOrRd\",vmax=255,vmin=0,ax=ax)\n",
    "#hs.set_title(m)\n",
    "plt.axis('off')\n",
    "#plt.savefig(\"hs_\"+\"gra_clas\"+\".png\")\n",
    "plt.show()\n",
    "pintaDigito(pd.DataFrame(df_Xc), df_Xg, nan_mat, indice)\n"
   ],
   "outputs": [
    {
     "output_type": "display_data",
     "data": {
      "text/plain": [
       "<Figure size 360x288 with 1 Axes>"
      ],
      "image/png": "[encoded data removed]"
     },
     "metadata": {}
    },
    {
     "output_type": "display_data",
     "data": {
      "text/plain": [
       "<Figure size 360x288 with 2 Axes>"
      ],
      "image/png": "[encoded data removed]"
     },
     "metadata": {}
    },
    {
     "output_type": "display_data",
     "data": {
      "text/plain": [
       "<Figure size 360x288 with 1 Axes>"
      ],
      "image/png": "[encoded data removed]"
     },
     "metadata": {}
    }
   ],
   "metadata": {}
  },
  {
   "cell_type": "code",
   "execution_count": 45,
   "source": [
    "#Media y desviación de los experimentos. Son x experimentos\n",
    "for i,l in zip([0,1],[\"Accuracy\",\"MAE\"]):\n",
    "    print(l,\"-->Media:\",np.array(val)[:,i].mean(),\"Desviación:\",np.array(val)[:,i].std())\n",
    "print(\"\\nValores\\n========\" )\n",
    "print(pd.DataFrame(val,columns =[\"Media\",\"MAE\"]))"
   ],
   "outputs": [
    {
     "output_type": "stream",
     "name": "stdout",
     "text": [
      "Accuracy -->Media: 0.44879351434164605 Desviación: 0.01755530127854261\n",
      "MAE -->Media: 55.21032641075836 Desviación: 2.5022970994062996\n",
      "\n",
      "Valores\n",
      "========\n",
      "      Media        MAE\n",
      "0  0.425653  58.598817\n",
      "1  0.469019  51.848540\n",
      "2  0.462167  54.133458\n",
      "3  0.438335  56.260490\n"
     ]
    }
   ],
   "metadata": {}
  },
  {
   "cell_type": "markdown",
   "source": [
    "## GRAPE FASES"
   ],
   "metadata": {}
  },
  {
   "cell_type": "code",
   "execution_count": 18,
   "source": [
    "#Dos fases (!Ojo! Son antes de truncar y normalizados!!!!!!!!!!!!!!!!!!!!!!!!) \n",
    "# Epoch Fase 1=2000\n",
    "# Epoch Fase 1=20000\n",
    "#Cargamos resultados\n",
    "ruta2=\"Exp1_GRAPE_F/\"\n",
    "resultados = pd.read_pickle(ruta+ruta2+'resultados_MNIST_grapeFasesClas.pkl').xs('MNIST')\n",
    "resultados"
   ],
   "outputs": [
    {
     "output_type": "execute_result",
     "data": {
      "text/plain": [
       "   fase       mae      rmse       mse  accuracy\n",
       "0     1  0.106225  0.291330  0.084873  0.808239\n",
       "1     2  0.083160  0.248478  0.061741  0.823304"
      ],
      "text/html": [
       "<div>\n",
       "<style scoped>\n",
       "    .dataframe tbody tr th:only-of-type {\n",
       "        vertical-align: middle;\n",
       "    }\n",
       "\n",
       "    .dataframe tbody tr th {\n",
       "        vertical-align: top;\n",
       "    }\n",
       "\n",
       "    .dataframe thead th {\n",
       "        text-align: right;\n",
       "    }\n",
       "</style>\n",
       "<table border=\"1\" class=\"dataframe\">\n",
       "  <thead>\n",
       "    <tr style=\"text-align: right;\">\n",
       "      <th></th>\n",
       "      <th>fase</th>\n",
       "      <th>mae</th>\n",
       "      <th>rmse</th>\n",
       "      <th>mse</th>\n",
       "      <th>accuracy</th>\n",
       "    </tr>\n",
       "  </thead>\n",
       "  <tbody>\n",
       "    <tr>\n",
       "      <th>0</th>\n",
       "      <td>1</td>\n",
       "      <td>0.106225</td>\n",
       "      <td>0.291330</td>\n",
       "      <td>0.084873</td>\n",
       "      <td>0.808239</td>\n",
       "    </tr>\n",
       "    <tr>\n",
       "      <th>1</th>\n",
       "      <td>2</td>\n",
       "      <td>0.083160</td>\n",
       "      <td>0.248478</td>\n",
       "      <td>0.061741</td>\n",
       "      <td>0.823304</td>\n",
       "    </tr>\n",
       "  </tbody>\n",
       "</table>\n",
       "</div>"
      ]
     },
     "metadata": {},
     "execution_count": 18
    }
   ],
   "metadata": {}
  },
  {
   "cell_type": "code",
   "execution_count": 20,
   "source": [
    "\n",
    "val=[]\n",
    "for l in [\"e2\",\"e1\",\"e0\",\"e3\"]:\n",
    "    df_Xg=np.loadtxt(ruta+ruta2+\"resultados_grapeFasesClas_\"+l+ \".txt\",  delimiter=',').astype(int)\n",
    "    accuracy_real=accuracy_score(df_Xc[nan_mat].reshape(-1) , df_Xg[nan_mat].reshape(-1))\n",
    "    mae_real=mean_absolute_error(df_Xc[nan_mat].reshape(-1), df_Xg[nan_mat].reshape(-1))\n",
    "    val.append([accuracy_real,mae_real])\n",
    "\n",
    "pintaDigitoReco(df_Xg,indice,\"Método: grape fases\"\n",
    "                    +\"\\nAccuracy:{:.4f}\".format(accuracy_real)\n",
    "                    +\"\\nMAE:{:.4f}\".format(mae_real))\n",
    "fig, ax = plt.subplots(figsize=(5,4))\n",
    "hs=sns.heatmap(abs(df_Xc[indice]-df_Xg[indice]).reshape(28,28),cmap=\"YlOrRd\",vmax=255,vmin=0,ax=ax)\n",
    "#hs.set_title('grape fases')\n",
    "plt.axis('off')\n",
    "plt.savefig(\"hs_\"+\"gra_fases\"+\".png\")\n",
    "plt.show()\n",
    "pintaDigito(pd.DataFrame(df_Xc), df_Xg, nan_mat, indice)"
   ],
   "outputs": [
    {
     "output_type": "display_data",
     "data": {
      "text/plain": [
       "<Figure size 360x288 with 1 Axes>"
      ],
      "image/png": "[encoded data removed]"
     },
     "metadata": {}
    },
    {
     "output_type": "display_data",
     "data": {
      "text/plain": [
       "<Figure size 360x288 with 2 Axes>"
      ],
      "image/png": "[encoded data removed]"
     },
     "metadata": {}
    },
    {
     "output_type": "display_data",
     "data": {
      "text/plain": [
       "<Figure size 360x288 with 1 Axes>"
      ],
      "image/png": "[encoded data removed]"
     },
     "metadata": {}
    }
   ],
   "metadata": {}
  },
  {
   "cell_type": "code",
   "execution_count": 21,
   "source": [
    "#Media y desviación de los experimentos. Son 4 experimentos\n",
    "for i,l in zip([0,1],[\"Accuracy\",\"MAE\"]):\n",
    "    print(l,\"-->Media:\",np.array(val)[:,i].mean(),\"Desviación:\",np.array(val)[:,i].std())\n",
    "print(\"\\nValores\\n========\" )\n",
    "print(pd.DataFrame(val,columns =[\"Media\",\"MAE\"]))"
   ],
   "outputs": [
    {
     "output_type": "stream",
     "name": "stdout",
     "text": [
      "Accuracy -->Media: 0.8244318665418334 Desviación: 0.0011349591755123558\n",
      "MAE -->Media: 20.606445229381222 Desviación: 0.4620769078943993\n",
      "\n",
      "Valores\n",
      "========\n",
      "      Media        MAE\n",
      "0  0.824070  20.866031\n",
      "1  0.823304  21.205720\n",
      "2  0.824028  20.348370\n",
      "3  0.826326  20.005660\n"
     ]
    }
   ],
   "metadata": {}
  },
  {
   "cell_type": "markdown",
   "source": [
    "## GRAPE Regresión"
   ],
   "metadata": {}
  },
  {
   "cell_type": "code",
   "execution_count": 23,
   "source": [
    "# Como problema de regresion\n",
    "# Epoch Fase 20.000\n",
    "#Cargamos resultados sin redondear, ni truncar\n",
    "ruta2=\"Exp1_GRAPE_R/\"\n",
    "resultados = pd.read_pickle(ruta+ruta2+'resultados_MNIST_grapeBasicoReg.pkl').xs('MNIST')\n",
    "resultados"
   ],
   "outputs": [
    {
     "output_type": "execute_result",
     "data": {
      "text/plain": [
       "        mae      rmse       mse  accuracy\n",
       "0  0.125923  1.361564  1.853857       0.0"
      ],
      "text/html": [
       "<div>\n",
       "<style scoped>\n",
       "    .dataframe tbody tr th:only-of-type {\n",
       "        vertical-align: middle;\n",
       "    }\n",
       "\n",
       "    .dataframe tbody tr th {\n",
       "        vertical-align: top;\n",
       "    }\n",
       "\n",
       "    .dataframe thead th {\n",
       "        text-align: right;\n",
       "    }\n",
       "</style>\n",
       "<table border=\"1\" class=\"dataframe\">\n",
       "  <thead>\n",
       "    <tr style=\"text-align: right;\">\n",
       "      <th></th>\n",
       "      <th>mae</th>\n",
       "      <th>rmse</th>\n",
       "      <th>mse</th>\n",
       "      <th>accuracy</th>\n",
       "    </tr>\n",
       "  </thead>\n",
       "  <tbody>\n",
       "    <tr>\n",
       "      <th>0</th>\n",
       "      <td>0.125923</td>\n",
       "      <td>1.361564</td>\n",
       "      <td>1.853857</td>\n",
       "      <td>0.0</td>\n",
       "    </tr>\n",
       "  </tbody>\n",
       "</table>\n",
       "</div>"
      ]
     },
     "metadata": {},
     "execution_count": 23
    }
   ],
   "metadata": {}
  },
  {
   "cell_type": "code",
   "execution_count": 24,
   "source": [
    "val=[]\n",
    "for l in [\"e3ok\",\"e2ok\",\"e1ok\",\"e0ok\"]:\n",
    "    df_Xg=np.loadtxt(ruta+ruta2+\"resultados_grapeBasicoReg_\"+l+ \".txt\",  delimiter=',').astype(int)\n",
    "    accuracy_real=accuracy_score(df_Xc[nan_mat].reshape(-1) , df_Xg[nan_mat].reshape(-1))\n",
    "    mae_real=mean_absolute_error(df_Xc[nan_mat].reshape(-1), df_Xg[nan_mat].reshape(-1))\n",
    "    val.append([accuracy_real,mae_real])\n",
    "\n",
    "pintaDigitoReco(df_Xg,indice,\"grape regresión\\n\")#\"Método: \"+m\n",
    "                    #+\"\\nAccuracy:{:.4f}\".format(accuracy_real)\n",
    "                    #+\"\\nMAE:{:.4f}\".format(mae_real))\n",
    "fig, ax = plt.subplots(figsize=(5,4))\n",
    "hs=sns.heatmap(abs(df_Xc[indice]-df_Xg[indice]).reshape(28,28),cmap=\"YlOrRd\",vmax=255,vmin=0,ax=ax)\n",
    "#hs.set_title(m)\n",
    "plt.axis('off')\n",
    "#plt.savefig(\"hs_\"+\"gra_reg\"+\".png\")\n",
    "plt.show()\n",
    "pintaDigito(pd.DataFrame(df_Xc), df_Xg, nan_mat, indice)"
   ],
   "outputs": [
    {
     "output_type": "display_data",
     "data": {
      "text/plain": [
       "<Figure size 360x288 with 1 Axes>"
      ],
      "image/png": "[encoded data removed]"
     },
     "metadata": {}
    },
    {
     "output_type": "display_data",
     "data": {
      "text/plain": [
       "<Figure size 360x288 with 2 Axes>"
      ],
      "image/png": "[encoded data removed]"
     },
     "metadata": {}
    },
    {
     "output_type": "display_data",
     "data": {
      "text/plain": [
       "<Figure size 360x288 with 1 Axes>"
      ],
      "image/png": "[encoded data removed]"
     },
     "metadata": {}
    }
   ],
   "metadata": {}
  },
  {
   "cell_type": "code",
   "execution_count": 25,
   "source": [
    "#Media y desviación de los experimentos. Son 4 experimentos\n",
    "for i,l in zip([0,1],[\"Accuracy\",\"MAE\"]):\n",
    "    print(l,\"-->Media:\",np.array(val)[:,i].mean(),\"Desviación:\",np.array(val)[:,i].std())\n",
    "print(\"\\nValores\\n========\" )\n",
    "print(pd.DataFrame(val,columns =[\"Media\",\"MAE\"]))"
   ],
   "outputs": [
    {
     "output_type": "stream",
     "name": "stdout",
     "text": [
      "Accuracy -->Media: 0.6034768916503532 Desviación: 0.01937355400410012\n",
      "MAE -->Media: 21.90325772406162 Desviación: 0.30553608700504176\n",
      "\n",
      "Valores\n",
      "========\n",
      "      Media        MAE\n",
      "0  0.626990  21.489786\n",
      "1  0.577326  22.296323\n",
      "2  0.616223  21.758958\n",
      "3  0.593370  22.067963\n"
     ]
    }
   ],
   "metadata": {}
  },
  {
   "cell_type": "markdown",
   "source": [
    "# PARTE II: Resultados de aplicar red a resto de 8's"
   ],
   "metadata": {}
  },
  {
   "cell_type": "code",
   "execution_count": 46,
   "source": [
    "ruta2=\"Exp2_Nuevos/\"\n",
    "df_Xc=np.loadtxt(ruta+ruta2+'resultados_resto8s.txt',  delimiter=',').astype(int)\n",
    "nan_mat=np.loadtxt(ruta+ruta2+'MNIST_nanMat_resto8s.txt',  delimiter=',').astype(bool)\n",
    "\n",
    "# Creamos función para cargar los resultados y calcular MAE y accuracy\n",
    "def calculaAccMAE(fichero,etiqueta,pinta=False,indice=230):\n",
    "    df_Xg=np.loadtxt(ruta+fichero,  delimiter=',').astype(int)\n",
    "    accuracy_real=accuracy_score(df_Xc[nan_mat].reshape(-1) , df_Xg[nan_mat].reshape(-1))\n",
    "    mae_real=mean_absolute_error(df_Xc[nan_mat].reshape(-1), df_Xg[nan_mat].reshape(-1))\n",
    "    print(etiqueta)\n",
    "    print(\"------------\")\n",
    "    print (\"Accuracy:\",accuracy_real, \"MAE:\", mae_real)\n",
    "    if pinta:\n",
    "        pintaDigitoReco(df_Xg,indice,\"grape regresión\\n\")#\"Método: \"+m\n",
    "                        #+\"\\nAccuracy:{:.4f}\".format(accuracy_real)\n",
    "                        #+\"\\nMAE:{:.4f}\".format(mae_real))\n",
    "        fig, ax = plt.subplots(figsize=(5,4))\n",
    "        hs=sns.heatmap(abs(df_Xc[indice]-df_Xg[indice]).reshape(28,28),cmap=\"YlOrRd\",vmax=255,vmin=0,ax=ax)\n",
    "        #hs.set_title(m)\n",
    "        plt.axis('off')\n",
    "        plt.show()\n",
    "        pintaDigito(pd.DataFrame(df_Xc), df_Xg, nan_mat, indice)"
   ],
   "outputs": [],
   "metadata": {}
  },
  {
   "cell_type": "code",
   "execution_count": 30,
   "source": [
    "#Rellenamos con ceros\n",
    "calculaAccMAE(ruta2+\"resultados_ceros_prediccion_nuevos.txt\",\"Modelo rellenar con ceros\")\n"
   ],
   "outputs": [
    {
     "output_type": "stream",
     "name": "stdout",
     "text": [
      "Modelo rellenar con ceros\n",
      "------------\n",
      "Accuracy: 0.7788907313531812 MAE: 38.31605869041449\n"
     ]
    }
   ],
   "metadata": {}
  },
  {
   "cell_type": "code",
   "execution_count": 32,
   "source": [
    "#Usamos SVD\n",
    "calculaAccMAE(ruta2+\"resultados_svd_prediccion_nuevos.txt\",\"Modelo SVD\")"
   ],
   "outputs": [
    {
     "output_type": "stream",
     "name": "stdout",
     "text": [
      "Modelo SVD\n",
      "------------\n",
      "Accuracy: 0.603922502156866 MAE: 10.224897368660347\n"
     ]
    }
   ],
   "metadata": {}
  },
  {
   "cell_type": "markdown",
   "source": [
    "## Regresión"
   ],
   "metadata": {}
  },
  {
   "cell_type": "code",
   "execution_count": 33,
   "source": [
    "# Grape Regresión\n",
    "calculaAccMAE(ruta2+\"resultados_reg_prediccion_nuevos.txt\",\"Modelo Grape RegresiÓn\",pinta=True)"
   ],
   "outputs": [
    {
     "output_type": "stream",
     "name": "stdout",
     "text": [
      "Modelo Grape RegresiÓn\n",
      "------------\n",
      "Accuracy: 0.5862668806652389 MAE: 26.980700946359647\n"
     ]
    },
    {
     "output_type": "display_data",
     "data": {
      "text/plain": [
       "<Figure size 360x288 with 1 Axes>"
      ],
      "image/png": "[encoded data removed]"
     },
     "metadata": {}
    },
    {
     "output_type": "display_data",
     "data": {
      "text/plain": [
       "<Figure size 360x288 with 2 Axes>"
      ],
      "image/png": "[encoded data removed]"
     },
     "metadata": {}
    },
    {
     "output_type": "display_data",
     "data": {
      "text/plain": [
       "<Figure size 360x288 with 1 Axes>"
      ],
      "image/png": "[encoded data removed]"
     },
     "metadata": {}
    }
   ],
   "metadata": {}
  },
  {
   "cell_type": "markdown",
   "source": [
    "## Clasificación"
   ],
   "metadata": {}
  },
  {
   "cell_type": "code",
   "execution_count": 34,
   "source": [
    "# Grape Regresión\n",
    "calculaAccMAE(ruta2+\"resultados_clas_prediccion_nuevos.txt\",\"Modelo Grape Clasificación\",pinta=True)"
   ],
   "outputs": [
    {
     "output_type": "stream",
     "name": "stdout",
     "text": [
      "Modelo Grape Clasificación\n",
      "------------\n",
      "Accuracy: 0.7716132027557614 MAE: 29.03905942156807\n"
     ]
    },
    {
     "output_type": "display_data",
     "data": {
      "text/plain": [
       "<Figure size 360x288 with 1 Axes>"
      ],
      "image/png": "[encoded data removed]"
     },
     "metadata": {}
    },
    {
     "output_type": "display_data",
     "data": {
      "text/plain": [
       "<Figure size 360x288 with 2 Axes>"
      ],
      "image/png": "[encoded data removed]"
     },
     "metadata": {}
    },
    {
     "output_type": "display_data",
     "data": {
      "text/plain": [
       "<Figure size 360x288 with 1 Axes>"
      ],
      "image/png": "[encoded data removed]"
     },
     "metadata": {}
    }
   ],
   "metadata": {}
  },
  {
   "cell_type": "markdown",
   "source": [
    "## Fases"
   ],
   "metadata": {}
  },
  {
   "cell_type": "code",
   "execution_count": 35,
   "source": [
    "# Grape Fases\n",
    "calculaAccMAE(ruta2+\"resultados_fases_prediccion_nuevos.txt\",\"Modelo Grape Fases\",pinta=True)"
   ],
   "outputs": [
    {
     "output_type": "stream",
     "name": "stdout",
     "text": [
      "Modelo Grape Fases\n",
      "------------\n",
      "Accuracy: 0.7739197741925706 MAE: 27.42775441224198\n"
     ]
    },
    {
     "output_type": "display_data",
     "data": {
      "text/plain": [
       "<Figure size 360x288 with 1 Axes>"
      ],
      "image/png": "[encoded data removed]"
     },
     "metadata": {}
    },
    {
     "output_type": "display_data",
     "data": {
      "text/plain": [
       "<Figure size 360x288 with 2 Axes>"
      ],
      "image/png": "[encoded data removed]"
     },
     "metadata": {}
    },
    {
     "output_type": "display_data",
     "data": {
      "text/plain": [
       "<Figure size 360x288 with 1 Axes>"
      ],
      "image/png": "[encoded data removed]"
     },
     "metadata": {}
    }
   ],
   "metadata": {}
  },
  {
   "cell_type": "markdown",
   "source": [
    "# Parte III: Intentamos reconstruir 3's a los que les hemos quitado pixeles aleatoriamente"
   ],
   "metadata": {}
  },
  {
   "cell_type": "code",
   "execution_count": 51,
   "source": [
    "ruta2=\"Exp3_Tres/\""
   ],
   "outputs": [],
   "metadata": {}
  },
  {
   "cell_type": "code",
   "execution_count": 47,
   "source": [
    "\n",
    "df_Xc=np.loadtxt(ruta+ruta2+\"resultados_prediccion3Orig.txt\",  delimiter=',').astype(int)\n",
    "df_Xg=np.loadtxt(ruta+ruta2+\"resultados_prediccion3.txt\",  delimiter=',').astype(int)\n",
    "\n",
    "# [0, 12, 13, 14, 16, 30, 39, 95]\n",
    "for indice in [0, 14, 30, 39, 95]:\n",
    "    print(indice)    \n",
    "    pintaDigitoReco(df_Xc,indice,\"Original\\n\")\n",
    "    pintaDigitoReco(df_Xg,indice,\"grape regresión\\n\")\n"
   ],
   "outputs": [
    {
     "output_type": "stream",
     "name": "stdout",
     "text": [
      "0\n"
     ]
    },
    {
     "output_type": "display_data",
     "data": {
      "text/plain": [
       "<Figure size 360x288 with 1 Axes>"
      ],
      "image/png": "[encoded data removed]"
     },
     "metadata": {}
    },
    {
     "output_type": "display_data",
     "data": {
      "text/plain": [
       "<Figure size 360x288 with 1 Axes>"
      ],
      "image/png": "[encoded data removed]"
     },
     "metadata": {}
    },
    {
     "output_type": "stream",
     "name": "stdout",
     "text": [
      "14\n"
     ]
    },
    {
     "output_type": "display_data",
     "data": {
      "text/plain": [
       "<Figure size 360x288 with 1 Axes>"
      ],
      "image/png": "[encoded data removed]"
     },
     "metadata": {}
    },
    {
     "output_type": "display_data",
     "data": {
      "text/plain": [
       "<Figure size 360x288 with 1 Axes>"
      ],
      "image/png": "[encoded data removed]"
     },
     "metadata": {}
    },
    {
     "output_type": "stream",
     "name": "stdout",
     "text": [
      "30\n"
     ]
    },
    {
     "output_type": "display_data",
     "data": {
      "text/plain": [
       "<Figure size 360x288 with 1 Axes>"
      ],
      "image/png": "[encoded data removed]"
     },
     "metadata": {}
    },
    {
     "output_type": "display_data",
     "data": {
      "text/plain": [
       "<Figure size 360x288 with 1 Axes>"
      ],
      "image/png": "[encoded data removed]"
     },
     "metadata": {}
    },
    {
     "output_type": "stream",
     "name": "stdout",
     "text": [
      "39\n"
     ]
    },
    {
     "output_type": "display_data",
     "data": {
      "text/plain": [
       "<Figure size 360x288 with 1 Axes>"
      ],
      "image/png": "[encoded data removed]"
     },
     "metadata": {}
    },
    {
     "output_type": "display_data",
     "data": {
      "text/plain": [
       "<Figure size 360x288 with 1 Axes>"
      ],
      "image/png": "[encoded data removed]"
     },
     "metadata": {}
    },
    {
     "output_type": "stream",
     "name": "stdout",
     "text": [
      "95\n"
     ]
    },
    {
     "output_type": "display_data",
     "data": {
      "text/plain": [
       "<Figure size 360x288 with 1 Axes>"
      ],
      "image/png": "[encoded data removed]"
     },
     "metadata": {}
    },
    {
     "output_type": "display_data",
     "data": {
      "text/plain": [
       "<Figure size 360x288 with 1 Axes>"
      ],
      "image/png": "[encoded data removed]"
     },
     "metadata": {}
    }
   ],
   "metadata": {}
  },
  {
   "cell_type": "code",
   "execution_count": 52,
   "source": [
    "## Idem con el modelo por fases\n",
    "df_Xc=np.loadtxt(ruta+ruta2+\"resultados_prediccion3Orig.txt\",  delimiter=',').astype(int)\n",
    "df_Xg=np.loadtxt(ruta+ruta2+\"resultados_prediccion3_F.txt\",  delimiter=',').astype(int)\n",
    "\n",
    "# [0, 12, 13, 14, 16, 30, 39, 95]\n",
    "for indice in [0, 14, 30, 39, 95]:\n",
    "    print(indice)    \n",
    "    pintaDigitoReco(df_Xc,indice,\"Original\\n\")\n",
    "    pintaDigitoReco(df_Xg,indice,\"grape regresión\\n\")"
   ],
   "outputs": [
    {
     "output_type": "stream",
     "name": "stdout",
     "text": [
      "0\n"
     ]
    },
    {
     "output_type": "display_data",
     "data": {
      "text/plain": [
       "<Figure size 360x288 with 1 Axes>"
      ],
      "image/png": "[encoded data removed]"
     },
     "metadata": {}
    },
    {
     "output_type": "display_data",
     "data": {
      "text/plain": [
       "<Figure size 360x288 with 1 Axes>"
      ],
      "image/png": "[encoded data removed]"
     },
     "metadata": {}
    },
    {
     "output_type": "stream",
     "name": "stdout",
     "text": [
      "14\n"
     ]
    },
    {
     "output_type": "display_data",
     "data": {
      "text/plain": [
       "<Figure size 360x288 with 1 Axes>"
      ],
      "image/png": "[encoded data removed]"
     },
     "metadata": {}
    },
    {
     "output_type": "display_data",
     "data": {
      "text/plain": [
       "<Figure size 360x288 with 1 Axes>"
      ],
      "image/png": "[encoded data removed]"
     },
     "metadata": {}
    },
    {
     "output_type": "stream",
     "name": "stdout",
     "text": [
      "30\n"
     ]
    },
    {
     "output_type": "display_data",
     "data": {
      "text/plain": [
       "<Figure size 360x288 with 1 Axes>"
      ],
      "image/png": "[encoded data removed]"
     },
     "metadata": {}
    },
    {
     "output_type": "display_data",
     "data": {
      "text/plain": [
       "<Figure size 360x288 with 1 Axes>"
      ],
      "image/png": "[encoded data removed]"
     },
     "metadata": {}
    },
    {
     "output_type": "stream",
     "name": "stdout",
     "text": [
      "39\n"
     ]
    },
    {
     "output_type": "display_data",
     "data": {
      "text/plain": [
       "<Figure size 360x288 with 1 Axes>"
      ],
      "image/png": "[encoded data removed]"
     },
     "metadata": {}
    },
    {
     "output_type": "display_data",
     "data": {
      "text/plain": [
       "<Figure size 360x288 with 1 Axes>"
      ],
      "image/png": "[encoded data removed]"
     },
     "metadata": {}
    },
    {
     "output_type": "stream",
     "name": "stdout",
     "text": [
      "95\n"
     ]
    },
    {
     "output_type": "display_data",
     "data": {
      "text/plain": [
       "<Figure size 360x288 with 1 Axes>"
      ],
      "image/png": "[encoded data removed]"
     },
     "metadata": {}
    },
    {
     "output_type": "display_data",
     "data": {
      "text/plain": [
       "<Figure size 360x288 with 1 Axes>"
      ],
      "image/png": "[encoded data removed]"
     },
     "metadata": {}
    }
   ],
   "metadata": {}
  },
  {
   "cell_type": "code",
   "execution_count": null,
   "source": [],
   "outputs": [],
   "metadata": {}
  }
 ],
 "metadata": {
  "kernelspec": {
   "name": "python3",
   "display_name": "Python 3.6.8 64-bit ('grapetest': conda)"
  },
  "language_info": {
   "codemirror_mode": {
    "name": "ipython",
    "version": 3
   },
   "file_extension": ".py",
   "mimetype": "text/x-python",
   "name": "python",
   "nbconvert_exporter": "python",
   "pygments_lexer": "ipython3",
   "version": "3.6.8"
  },
  "toc": {
   "base_numbering": 1,
   "nav_menu": {},
   "number_sections": true,
   "sideBar": true,
   "skip_h1_title": false,
   "title_cell": "Table of Contents",
   "title_sidebar": "Contents",
   "toc_cell": false,
   "toc_position": {},
   "toc_section_display": true,
   "toc_window_display": false
  },
  "interpreter": {
   "hash": "71590e06564eb4d2de84ceda688d5ef39b878aedfaec0b8ce3f3273d3bcdc756"
  }
 },
 "nbformat": 4,
 "nbformat_minor": 4
}